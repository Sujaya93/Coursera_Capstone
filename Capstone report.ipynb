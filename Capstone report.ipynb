{
 "cells": [
  {
   "cell_type": "markdown",
   "metadata": {
    "collapsed": true
   },
   "source": []
  },
  {
   "cell_type": "markdown",
   "metadata": {},
   "source": [
    "The following idea has been formulated to be solved using location data:\n",
    "#### In New York city Midtown District if someone is looking to open a restaurant, where would you recommend that they open it?\n",
    "\n",
    "### A description of the problem and a discussion of the background.\n",
    "\n",
    "Lets assume I want to open a restaurant.Running a restaurant is more than just offering food in exchange for money. I will be offering an experience to customers based on items such as the decor, food, and service. As the owner, it is up to me to determine the type of experience I want to give customers. Even after I've decided on the type of restaurant I want to open, I need to make sure there is a market for it, the concept is within my budget, and I can find the right location.I have to think and decide if Owning a Restaurant Is Right for me? Running a restaurant is hard work that involves long hours spent away from home. Although it can be gratifying to run my own business, it is not as glamorous as it seems. If I ask anyone in the food business and they will tell about their long hours that can include weekends and holidays. It’s important to understand the various jobs that are involved in running a restaurant, such as bookkeeping, cooking, dealing with customers, and managing staff to take on some of those responsibilities.Background of my problem is discussed as follows:\n",
    "#### Decide on a Restaurant Concept\n",
    "Deciding on the type of restaurant to open involves several considerations, which may be influenced by my personal preferences. Often, people who open their own restaurant serve food they like to cook in an atmosphere in which they feel comfortable. However, other people may be interested in franchising. Restaurant franchises offer a number of benefits, including instant name recognition and built-in marketing. But, many restaurant franchises are not cheap and owners must be willing to follow a stringent set of rules.\n",
    "\n",
    "#### Choose a Location for my Restaurant\n",
    "Location is vital to the success of any restaurant. There are several factors to consider when searching for that perfect restaurant location, including population base, local employment figures, and accessibility. Once I find that perfect location, I will need to make sure I negotiate the best lease possible for my restaurant. I may fall in love with a charming downtown building that would be just perfect for my new restaurant. But before I sign a lease or apply for a mortgage,I should do my homework. Not every available space is right for a restaurant. A good restaurant location is harder to find than some people think. What may look like the perfect spot- say a bustling pedestrian street in the heart of downtown- may turn out to be a dud. Other times a spot that I would never think to put a restaurant - like in an old shoe shop in a run-down mill town - is a success. Of course, food and service are important to the success of a restaurant, but the location can be just as crucial, especially in the early years. I think I should go and observe shopping malls,complexes and areas where people prefer to spend time more closely.Maybe take a survey on social media and analyse the results by customer clustering and segmentation to gauge the popular areas of visit.\n",
    "#### Know Your Customers\n",
    "Baby boomers have distinctly different dining preferences than millennials. Parents with small children have different needs than singles or empty nesters. As I prepare to start a restaurant, it's important to understand the makeup of my core customers. Researching my area's population base will provide me with important demographic information that can impact my restaurant's bottom line. Items such as housing value, average household income, and average age will give me a good indication of my potential core customers.The food preferences epecially the cuisine like Mexican,Thai,Korean,Mughlai,European etc will give me fair idea about the customers interest and choice.It will help me attract a wide range of audience thus resulting in more success and consequently high income.Once I have that information, I can consider it in light of existing restaurants in my area.\n",
    "\n",
    "#### Write a Business Plan\n",
    "To prepare for my interview with the bank,I should create a business plan. A plan that outlines my restaurant and how I expect to make it profitable will show the loan officer my seriousness. Also, determine the paperwork I need to bring, such as personal income statements and tax returns.\n",
    "#### Select the Perfect Restaurant Name\n",
    "Restaurant names may reflect a theme such as a culture or simply be a play on words. The important thing to consider is the impression the name will leave on customers. Select a name that will be easy for customers to remember and spell. Nothing is more frustrating than not being able to find a restaurant listing because I am not spelling it correctly.\n",
    "\n",
    "#### Write the Menu\n",
    "My menu is important to my restaurant's success. After all, it is essentially why my customers keep coming back; they love the food. The layout and design are just as important as what’s listed on the menu. Avoid amateur-looking menu designs, such as clip art or photocopied handwriting. Finally, knowing how to price the menu will help increase my profit margins, giving me more money to invest in my restaurant.\n"
   ]
  },
  {
   "cell_type": "markdown",
   "metadata": {},
   "source": [
    "#### Staff Your Restaurant\n",
    "Hiring the right staff is crucial for any new restaurant. Good food loses much of its appeal if it is accompanied by bad service. Knowing basic employee roles for front-of-the-house staff and back-of-the-house staff will help me select the best candidate for the job. Experience counts for important positions, such as head cook, dining room manager, and bartender.\n",
    "#### Purchase Equipment for Your Restaurant\n",
    "Outfitting my restaurant kitchen, dining room, and bar is the largest part of my start-up budget. Start with the basics. Shop for deals advertising used and leased restaurant equipment. Resist the temptation to buy unnecessary furniture and equipment, which can set me way over budget. Before opening a restaurant, there are many items to consider to assure its success. The main consideration is the amount of time that will be required to run the restaurant, as well as an ability to manage it successfully. I will need to determine items such as the restaurant location, name, decor, food, and menu, and write a sound business plan to obtain the proper funding. Overall, it is important to gather as much information as possible before heading into this type of venture.\n",
    "#### Well Managed Social Media Presence\n",
    "My social media pages aren't a Ronco rotisserie chicken.I should not just set it and forget it. In other words,I have to be active on my Facebook page, on a regular (that is daily) basis. Facebook can be used to announce upcoming events, like Mother’s Day or a wine tasting. It allows me to post daily and weekly menu and drink specials. More innovative uses of Facebook include posting recipes, video tours of the kitchen, or a video of the chef doing a cooking demo.I have to reach new customers and alert regulars when I have something new to promote. A well-managed Facebook page also promotes good customer service, encouraging customers to comment on their interactions with my restaurant. It also gives me a chance to address customer complaints.If a customer took the time to air a grievance about my restaurant on my Facebook page, I can address it immediately and offer a solution. This not only shows the customer I value their opinion and their businesses, but everyone else that follow my site as well. I should keep creating fresh specials and new menus that will keep customers coming back on a regular basis.Promoting my restaurant as the best value for its customers is important. Value doesn’t mean it's the cheapest but rather that my customers feel that a meal at my establishment is always money well spent.\n",
    "#### The Right Insurance\n",
    "A restaurant may be all about food and drink, but it is still a business first and foremost. Therefore it is absolutely imperative that I carry the right kind of insurances, including workers comp, liability, and property. Insurance for a restaurant isn’t cheap either, so make to gather up quotes early, so that I can plan my budget accordingly.\n",
    "#### A Good Manager\n",
    "A pivotal position at any restaurant is that of manager. Sometimes an owner acts as a restaurant’s general manager. Other times the manager is hired as an employee. Restaurant managers have a number of responsibilities in the day to day business of running a restaurant, which include order inventory, hiring and firing, and addressing customer complaints. As the restaurant owner, if I am not planning on being in front of the house, it is important to budget for a qualified general manager who will act with my restaurant’s best interest in mind.\n",
    "#### Managing Your Staff\n",
    "A restaurant staff consists of a diverse group of people working together under one roof and in one kitchen. Managing the front of the house and the back of the house, smoothing out conflicts, and dealing with all the other issues that arise is not easy. I have to learn to communicate my expectations clearly to my staff and set ground rules and disciplinary actions.It's necessary to run my restaurant more smoothly.An employee manual can be helpful for new staff just learning the ropes. It should include detailed job descriptions, restaurant policies, dress code, and the code of conduct. Training my staff properly means I don't have to get bogged down in the details. Learning to delegate saves me time for real management issues.\n",
    "\n",
    "## A description of the data and how it will be used to solve the problem.\n",
    "\n",
    "I will make use of an app called Foursquare.I will use it in the following ways to help me solve my problem.First I will make calls to the Foursquare API for different purposes. I will then construct a URL to send a request to the API to search for a specific type of venues,then to explore a particular venue, then to explore a Foursquare user, to explore a geographical location, and lastly to get trending venues around a location. I will use the visualization library, Folium, to visualize the results.\n",
    "\n",
    "I will utilize neighbourhood’s information of Midtown in New York. Foursquare information on venue categories, top tips, location data, ratings to tackle this task. Restaurants near Plaza hotels can be accessed by using the app Foursquare.For Midtown in New York, I download a json file and transform it into a usable pandas dataframe.\n",
    "\n",
    "Foursquare City Guide, commonly known as Foursquare, is a local search-and-discovery mobile app which provides search results for its users. The app provides personalized recommendations of places to go near a user's current location based on users' previous browsing history and check-in history.They expose a comprehensive API including a rich point-of-interest (POI) database. Powered by millions of checkins, Foursquare can use algorithms to detect \"trending\". JSON is the preferred response format. The service was created in late 2008 and launched in 2009 by Dennis Crowley and Naveen Selvadurai. But what is it? What's it for? How can you get started? Foursquare is primarily for letting your friends know where you are and figuring out where they are. Secondarily, it's for collecting points, prize \"badges,\" and eventually, coupons, for going about your everyday business. It's becoming popular. Foursquare now has almost 275,000 users in less than a year. It has the following impressive features:\n",
    "#### Local search and recommendations\n",
    "Foursquare lets users search for restaurants, nightlife spots, shops and other places of interest in their surrounding area. It is also possible to search other areas by entering the name of a remote location.The app displays personalized recommendations based on the time of day, displaying breakfast places in the morning, dinner places in the evening etc.Recommendations are personalized based on factors that include a user's check-in history, their \"Tastes\" and their venue ratings. \n",
    "#### Tips and expertise\n",
    "Foursquare eschews the traditional concept of letting users leave long-form reviews, and instead encourages the writing of \"Tips\" - short messages about a location that let other users know what is good (or bad) there. Tips are limited to 200 characters in length, but can include a URL to link to an external site with more information, and can include a photo. As a reward for leaving quality tips, a user can earn \"expertise\" in a particular location (e.g. a neighborhood or city) or category (e.g. Italian restaurants). \n",
    "#### Tastes\n",
    "\"Tastes\" let a user personalise their search experience.Foursquare has a defined list of \"tastes\" in particular food items, styles of cuisine or environmental aspects, which users may add to their profiles to let the app know what they like. The app uses natural language processing to match a user's tastes with the tips at nearby venues that mention them. \n",
    "#### Location detection\n",
    "Foursquare on wearable phone watch Foursquare uses its own proprietary technology, Pilgrim, to detect a user's location. When users opt in to always-on location sharing, Pilgrim is able to understand a user's current location by comparing historical check-in data with the user‘s current GPS signal, cell tower triangulation, cellular signal strength and surrounding wifi signals. The app uses the location service to track a user's location in the background, enabling push notifications of things the user might find interesting in their vicinity. It uses this ability to learn about the kinds of places a user likes, based on when and how often they visit different venues. It then uses this data to improve a user's recommendations and gauge the popularity of a venue. \n",
    "#### Ratings\n",
    "In addition to leaving Tips, Foursquare lets users rate venues by answering questions. The questions help Foursquare understand how people feel about a place, including whether or not a user likes the place, how trendy it is, its cleanliness, and its noise level. It also uses these questions to fill in missing venue information such as asking whether the venue takes credit cards, or whether it has outdoor seating. Foursquare gives each venue a numeric score between 0.1 and 10 to indicate its general popularity when compared to other venues. Scores are calculated automatically factoring in check-in data, explicit user ratings, tip sentiment, foot traffic behavior and other signals. \n",
    "#### Lists\n",
    "Users can add venues to a personal \"to do\" list and curated lists to track neighborhood hot-spots or things to do while traveling. Superusers The service provides ten levels of Superuser. Superuser status is awarded to users after they apply and perform a special test where users should meet quality and quantity criteria.Only Superusers have the ability to edit venue information.Superusers can attain different levels as they contribute more high-quality edits over time.\n",
    "\n",
    "When you first boot up the app, you see a list of your friends, and what they're up to How does Foursquare know what your friends are up to? They have \"checked in\" and left comments with their accounts. How does it know who your \"friends\" are? You can \"friend\" people in Foursquare...or just import your Facebook friends.Here's how it works on Apple's iphone.Clicking on one of your friends will bring up her profile.Press the \"Places\" button at the bottom of the screen and this will bring up this list of venues near you\n",
    "How does Foursquare know where you are? It uses your phone's GPS.\n",
    "The list of venues includes, first and foremost, bars, as well as restaurants, stores, and other locations. Look at a venue on Google Maps, and search for nearby tweets,The 'Tips' tab shows you suggestions for what to do at this venue; you can also add your own"
   ]
  },
  {
   "cell_type": "markdown",
   "metadata": {},
   "source": [
    "## Methodology\n",
    "The ultimate goal of this project is to provide an easy-to-understand report to those looking to start their restaurant business in Midtown,New York.For demonstration, I choose an indian restaurant 'Bengal Tiger Indian Food'  where business is flourishing and popularity among diners is at an all time high.I chose the restaurant with the best rating in Midtown district(4.5/5) and explored it further to know more about it.\n",
    "\n",
    "The first step is to make call to API to give information about specific venues(Indian restaurants in Midtown).In order to gain that information we will use \"Foursquare\" locational information. By locational information for each venue we mean basic and advanced information about that venue. For example there is a venue in one of the neighborhoods. As basic information, we can obtain its precise latitude and longitude and also its distance from the center of the neighborhood. But we are looking for advanced information such as the category of that venue and whether this venue is a popular one in its category.A typical request from Foursquare will provide us with the following information:\n",
    "\n",
    "[Postal Code] [Neighborhood(s)] [Neighborhood Latitude] [Neighborhood Longitude] [Venue] [Venue Summary] [Venue Category] [Distance (meter)]¶ \n",
    "\n",
    "I will then construct a URL to send a request to the API to explore a particular venue('Bengal Tiger Indian Food restaurant',cuisine is indian food).(Then we assign relevant part of JSON to venues and transform them to dataframe using pandas.The transformed dataframe is filtered and then used to generate a map of nearby restaurants to 5 star hotel Plaza Hotel).I want to get all the venues that are in a certain neighborhood within a radius of 500 meters.This radius can be changed to meet different requirements. However if you want to extend the  calls you will need to purchase the professional version of Four Square API.I will then construct a URL again to send a request to the API to find most frequent Foursquare user.The most frequent user's details are examined.User's friends preferences are also observed.\n",
    "\n",
    "Then we will construct a URL again to send a request to the API to explore a geographical location.That is after finishing our lunch we explore the location.We will find the area with maximum no. of people.We check how busy the location is.Lastly we call API to get trending venues around a location.The trending venues is not the same everytime we run our code.By trending venues we mean venues with highest foot traffic.As map generated from live data it differs from time to time.I will use the visualization library, Folium, to visualize the results.Folium used to generate map highlighting the required values."
   ]
  },
  {
   "cell_type": "markdown",
   "metadata": {},
   "source": [
    "## Results"
   ]
  },
  {
   "cell_type": "markdown",
   "metadata": {},
   "source": [
    "After using Foursquare API and exploring specific venue category,I observed that there is a market for Indian cuisine.I have visualised Indian Restaurants near Plaza hotel.I explored the closest Restaurant Bengal Tiger Indian Food.It has got an overall rating of 8.2.Its quite impressive as Midtown district in New York has a diverse population.\n",
    "\n",
    "The total number of tips that the Restaurant got is 75 which shows that the Quality of Food and Service is commendable.Most frequent Foursquare user Vincent has also given good rating and 28 tips to this Restaurant.It has got greatest number of agree counts.After exploring trending spots around the Restaurant I am convinced that Midtown district is an ideal location for my business venture."
   ]
  },
  {
   "cell_type": "markdown",
   "metadata": {},
   "source": [
    "## Conclusion\n",
    "This project is a demonstration of what interesting things can be done using the Four Square API. Hopefully computer software engineers can build a more efficient program which can return the above analysis and visualization with one-click.The Indian restaurant option is viable because I want to open indian restaurant in Midtown for personal reasons,so I didnt explore other neighbourhoods.By observing trending venue results I can safely conclude that areas around Midtown are very busy and has a lot of Indian population(observed from a different study) of all ages,so my business will be a great success.Midtown district is an ideal location.\n",
    "Thank you for reading my report."
   ]
  }
 ],
 "metadata": {
  "kernelspec": {
   "display_name": "Python 3.5",
   "language": "python",
   "name": "python3"
  },
  "language_info": {
   "codemirror_mode": {
    "name": "ipython",
    "version": 3
   },
   "file_extension": ".py",
   "mimetype": "text/x-python",
   "name": "python",
   "nbconvert_exporter": "python",
   "pygments_lexer": "ipython3",
   "version": "3.5.5"
  }
 },
 "nbformat": 4,
 "nbformat_minor": 1
}
